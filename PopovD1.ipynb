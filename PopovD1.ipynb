{
 "cells": [
  {
   "cell_type": "markdown",
   "metadata": {},
   "source": [
    "# Попов Дмитрий"
   ]
  },
  {
   "cell_type": "markdown",
   "metadata": {},
   "source": [
    "## Тестирование реализаций функции encode_rle"
   ]
  },
  {
   "cell_type": "code",
   "execution_count": 101,
   "metadata": {},
   "outputs": [],
   "source": [
    "import numpy as np\n",
    "\n",
    "\n",
    "def encode_rle_vectorized(x):\n",
    "    if len(x) == 0:\n",
    "        return [], []\n",
    "    changes = np.where(x[1:] != x[:-1])[0]\n",
    "    ids = np.concatenate(([0], changes + 1))\n",
    "\n",
    "    ids2 = np.concatenate((ids, [len(x)]))\n",
    "    run_len = ids2[1:] - ids2[:-1]\n",
    "\n",
    "    return x[ids], run_len\n",
    "\n",
    "\n",
    "def encode_rle_half_vectorized(x):\n",
    "    if len(x) == 0:\n",
    "        return [], []\n",
    "    changes = np.where(x[1:] != x[:-1])[0]\n",
    "    ids = np.concatenate(([0], changes + 1))\n",
    "\n",
    "    ids2 = np.concatenate((ids, [len(x)]))\n",
    "    run_len = []\n",
    "    for i in range(1, len(ids2)):\n",
    "        run_len.append(ids2[i] - ids2[i - 1])\n",
    "\n",
    "    return x[ids], run_len\n",
    "\n",
    "\n",
    "def encode_rle_non_vectorized(x):\n",
    "    if len(x) == 0:\n",
    "        return [], []\n",
    "\n",
    "    run_len = [1]\n",
    "    numbers = [x[0]]\n",
    "\n",
    "    for i in range(1, len(x)):\n",
    "        if x[i] != x[i-1]:\n",
    "            run_len.append(1)\n",
    "            numbers.append(x[i])\n",
    "        else:\n",
    "            run_len[-1] += 1\n",
    "\n",
    "    return numbers, run_len"
   ]
  },
  {
   "cell_type": "code",
   "execution_count": 102,
   "metadata": {},
   "outputs": [],
   "source": [
    "x = np.random.randint(-100, 100, 1000 * 1000)"
   ]
  },
  {
   "cell_type": "code",
   "execution_count": 103,
   "metadata": {},
   "outputs": [
    {
     "name": "stdout",
     "output_type": "stream",
     "text": [
      "39 ms ± 726 µs per loop (mean ± std. dev. of 7 runs, 10 loops each)\n",
      "444 ms ± 34.7 ms per loop (mean ± std. dev. of 7 runs, 1 loop each)\n",
      "757 ms ± 83.6 ms per loop (mean ± std. dev. of 7 runs, 1 loop each)\n"
     ]
    }
   ],
   "source": [
    "%timeit encode_rle_vectorized(x)\n",
    "%timeit encode_rle_half_vectorized(x)\n",
    "%timeit encode_rle_non_vectorized(x)"
   ]
  },
  {
   "cell_type": "markdown",
   "metadata": {},
   "source": [
    "## Описание\n",
    "Частично и полностью векторизованные реализации разбиты на две части: нахождение индексов, где происходит изменение значения, а потом - получение длин подотрезков постоянства значения. В частично векторизованной векторизована первая часть, вторая написана наивно. В полной векторизованы обе."
   ]
  },
  {
   "cell_type": "markdown",
   "metadata": {},
   "source": [
    "## Выводы\n",
    "Скорости работы: полностью векторизованная > частично векторизованная > наивная. Результат логичный, так как векторизация в данном случае даёт прирост в каждом случае - подзадачи независимы и не мешают ускорению."
   ]
  }
 ],
 "metadata": {
  "kernelspec": {
   "display_name": "Python 3",
   "language": "python",
   "name": "python3"
  },
  "language_info": {
   "codemirror_mode": {
    "name": "ipython",
    "version": 3
   },
   "file_extension": ".py",
   "mimetype": "text/x-python",
   "name": "python",
   "nbconvert_exporter": "python",
   "pygments_lexer": "ipython3",
   "version": "3.8.6"
  }
 },
 "nbformat": 4,
 "nbformat_minor": 2
}
